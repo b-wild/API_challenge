{
 "cells": [
  {
   "cell_type": "markdown",
   "metadata": {},
   "source": [
    "# VacationPy\n",
    "---\n",
    "\n",
    "## Starter Code to Import Libraries and Load the Weather and Coordinates Data"
   ]
  },
  {
   "cell_type": "code",
   "execution_count": 37,
   "metadata": {},
   "outputs": [],
   "source": [
    "# Dependencies and Setup\n",
    "import hvplot.pandas\n",
    "import pandas as pd\n",
    "import requests\n",
    "\n",
    "# Import API key\n",
    "from api_keys import geoapify_key"
   ]
  },
  {
   "cell_type": "code",
   "execution_count": 38,
   "metadata": {},
   "outputs": [
    {
     "data": {
      "text/html": [
       "<div>\n",
       "<style scoped>\n",
       "    .dataframe tbody tr th:only-of-type {\n",
       "        vertical-align: middle;\n",
       "    }\n",
       "\n",
       "    .dataframe tbody tr th {\n",
       "        vertical-align: top;\n",
       "    }\n",
       "\n",
       "    .dataframe thead th {\n",
       "        text-align: right;\n",
       "    }\n",
       "</style>\n",
       "<table border=\"1\" class=\"dataframe\">\n",
       "  <thead>\n",
       "    <tr style=\"text-align: right;\">\n",
       "      <th></th>\n",
       "      <th>City_ID</th>\n",
       "      <th>City</th>\n",
       "      <th>Lat</th>\n",
       "      <th>Lng</th>\n",
       "      <th>Max Temp</th>\n",
       "      <th>Humidity</th>\n",
       "      <th>Cloudiness</th>\n",
       "      <th>Wind Speed</th>\n",
       "      <th>Country</th>\n",
       "      <th>Date</th>\n",
       "    </tr>\n",
       "  </thead>\n",
       "  <tbody>\n",
       "    <tr>\n",
       "      <th>0</th>\n",
       "      <td>0</td>\n",
       "      <td>port-cartier</td>\n",
       "      <td>50.0334</td>\n",
       "      <td>-66.8654</td>\n",
       "      <td>267.21</td>\n",
       "      <td>85</td>\n",
       "      <td>100</td>\n",
       "      <td>3.14</td>\n",
       "      <td>CA</td>\n",
       "      <td>2023-02-08 01:45:35</td>\n",
       "    </tr>\n",
       "    <tr>\n",
       "      <th>1</th>\n",
       "      <td>1</td>\n",
       "      <td>tuktoyaktuk</td>\n",
       "      <td>69.4541</td>\n",
       "      <td>-133.0374</td>\n",
       "      <td>241.15</td>\n",
       "      <td>75</td>\n",
       "      <td>100</td>\n",
       "      <td>1.54</td>\n",
       "      <td>CA</td>\n",
       "      <td>2023-02-08 01:41:01</td>\n",
       "    </tr>\n",
       "    <tr>\n",
       "      <th>2</th>\n",
       "      <td>2</td>\n",
       "      <td>atuona</td>\n",
       "      <td>-9.8000</td>\n",
       "      <td>-139.0333</td>\n",
       "      <td>299.42</td>\n",
       "      <td>74</td>\n",
       "      <td>28</td>\n",
       "      <td>7.37</td>\n",
       "      <td>PF</td>\n",
       "      <td>2023-02-08 01:45:44</td>\n",
       "    </tr>\n",
       "    <tr>\n",
       "      <th>3</th>\n",
       "      <td>3</td>\n",
       "      <td>avarua</td>\n",
       "      <td>-21.2078</td>\n",
       "      <td>-159.7750</td>\n",
       "      <td>302.18</td>\n",
       "      <td>74</td>\n",
       "      <td>28</td>\n",
       "      <td>5.14</td>\n",
       "      <td>CK</td>\n",
       "      <td>2023-02-08 01:45:44</td>\n",
       "    </tr>\n",
       "    <tr>\n",
       "      <th>4</th>\n",
       "      <td>4</td>\n",
       "      <td>klaksvik</td>\n",
       "      <td>62.2266</td>\n",
       "      <td>-6.5890</td>\n",
       "      <td>281.66</td>\n",
       "      <td>84</td>\n",
       "      <td>100</td>\n",
       "      <td>25.39</td>\n",
       "      <td>FO</td>\n",
       "      <td>2023-02-08 01:43:55</td>\n",
       "    </tr>\n",
       "  </tbody>\n",
       "</table>\n",
       "</div>"
      ],
      "text/plain": [
       "   City_ID          City      Lat       Lng  Max Temp  Humidity  Cloudiness  \\\n",
       "0        0  port-cartier  50.0334  -66.8654    267.21        85         100   \n",
       "1        1   tuktoyaktuk  69.4541 -133.0374    241.15        75         100   \n",
       "2        2        atuona  -9.8000 -139.0333    299.42        74          28   \n",
       "3        3        avarua -21.2078 -159.7750    302.18        74          28   \n",
       "4        4      klaksvik  62.2266   -6.5890    281.66        84         100   \n",
       "\n",
       "   Wind Speed Country                 Date  \n",
       "0        3.14      CA  2023-02-08 01:45:35  \n",
       "1        1.54      CA  2023-02-08 01:41:01  \n",
       "2        7.37      PF  2023-02-08 01:45:44  \n",
       "3        5.14      CK  2023-02-08 01:45:44  \n",
       "4       25.39      FO  2023-02-08 01:43:55  "
      ]
     },
     "execution_count": 38,
     "metadata": {},
     "output_type": "execute_result"
    }
   ],
   "source": [
    "# Load the CSV file created in Part 1 into a Pandas DataFrame\n",
    "city_data_df = pd.read_csv(\"output_data/cities.csv\")\n",
    "\n",
    "# Display sample data\n",
    "city_data_df.head()"
   ]
  },
  {
   "cell_type": "markdown",
   "metadata": {},
   "source": [
    "---\n",
    "\n",
    "### Step 1: Create a map that displays a point for every city in the `city_data_df` DataFrame. The size of the point should be the humidity in each city."
   ]
  },
  {
   "cell_type": "code",
   "execution_count": 39,
   "metadata": {},
   "outputs": [
    {
     "data": {},
     "metadata": {},
     "output_type": "display_data"
    },
    {
     "data": {
      "application/vnd.holoviews_exec.v0+json": "",
      "text/html": [
       "<div id='1129'>\n",
       "  <div class=\"bk-root\" id=\"773b850a-bcb1-466d-9f7a-9a0ab9857d85\" data-root-id=\"1129\"></div>\n",
       "</div>\n",
       "<script type=\"application/javascript\">(function(root) {\n",
       "  function embed_document(root) {\n",
       "    var docs_json = {\"1f4b2bf2-3487-4316-93b2-034921c7c66e\":{\"defs\":[{\"extends\":null,\"module\":null,\"name\":\"ReactiveHTML1\",\"overrides\":[],\"properties\":[]},{\"extends\":null,\"module\":null,\"name\":\"FlexBox1\",\"overrides\":[],\"properties\":[{\"default\":\"flex-start\",\"kind\":null,\"name\":\"align_content\"},{\"default\":\"flex-start\",\"kind\":null,\"name\":\"align_items\"},{\"default\":\"row\",\"kind\":null,\"name\":\"flex_direction\"},{\"default\":\"wrap\",\"kind\":null,\"name\":\"flex_wrap\"},{\"default\":\"flex-start\",\"kind\":null,\"name\":\"justify_content\"}]},{\"extends\":null,\"module\":null,\"name\":\"GridStack1\",\"overrides\":[],\"properties\":[{\"default\":\"warn\",\"kind\":null,\"name\":\"mode\"},{\"default\":null,\"kind\":null,\"name\":\"ncols\"},{\"default\":null,\"kind\":null,\"name\":\"nrows\"},{\"default\":true,\"kind\":null,\"name\":\"allow_resize\"},{\"default\":true,\"kind\":null,\"name\":\"allow_drag\"},{\"default\":[],\"kind\":null,\"name\":\"state\"}]},{\"extends\":null,\"module\":null,\"name\":\"click1\",\"overrides\":[],\"properties\":[{\"default\":\"\",\"kind\":null,\"name\":\"terminal_output\"},{\"default\":\"\",\"kind\":null,\"name\":\"debug_name\"},{\"default\":0,\"kind\":null,\"name\":\"clears\"}]},{\"extends\":null,\"module\":null,\"name\":\"NotificationAreaBase1\",\"overrides\":[],\"properties\":[{\"default\":\"bottom-right\",\"kind\":null,\"name\":\"position\"},{\"default\":0,\"kind\":null,\"name\":\"_clear\"}]},{\"extends\":null,\"module\":null,\"name\":\"NotificationArea1\",\"overrides\":[],\"properties\":[{\"default\":[],\"kind\":null,\"name\":\"notifications\"},{\"default\":\"bottom-right\",\"kind\":null,\"name\":\"position\"},{\"default\":0,\"kind\":null,\"name\":\"_clear\"},{\"default\":[{\"background\":\"#ffc107\",\"icon\":{\"className\":\"fas fa-exclamation-triangle\",\"color\":\"white\",\"tagName\":\"i\"},\"type\":\"warning\"},{\"background\":\"#007bff\",\"icon\":{\"className\":\"fas fa-info-circle\",\"color\":\"white\",\"tagName\":\"i\"},\"type\":\"info\"}],\"kind\":null,\"name\":\"types\"}]},{\"extends\":null,\"module\":null,\"name\":\"Notification\",\"overrides\":[],\"properties\":[{\"default\":null,\"kind\":null,\"name\":\"background\"},{\"default\":3000,\"kind\":null,\"name\":\"duration\"},{\"default\":null,\"kind\":null,\"name\":\"icon\"},{\"default\":\"\",\"kind\":null,\"name\":\"message\"},{\"default\":null,\"kind\":null,\"name\":\"notification_type\"},{\"default\":false,\"kind\":null,\"name\":\"_destroyed\"}]},{\"extends\":null,\"module\":null,\"name\":\"TemplateActions1\",\"overrides\":[],\"properties\":[{\"default\":0,\"kind\":null,\"name\":\"open_modal\"},{\"default\":0,\"kind\":null,\"name\":\"close_modal\"}]},{\"extends\":null,\"module\":null,\"name\":\"MaterialTemplateActions1\",\"overrides\":[],\"properties\":[{\"default\":0,\"kind\":null,\"name\":\"open_modal\"},{\"default\":0,\"kind\":null,\"name\":\"close_modal\"}]}],\"roots\":{\"references\":[{\"attributes\":{\"margin\":[5,5,5,5],\"name\":\"HSpacer01701\",\"sizing_mode\":\"stretch_width\"},\"id\":\"1130\",\"type\":\"Spacer\"},{\"attributes\":{\"coordinates\":null,\"group\":null,\"level\":\"glyph\",\"tile_source\":{\"id\":\"1200\"}},\"id\":\"1203\",\"type\":\"TileRenderer\"},{\"attributes\":{\"source\":{\"id\":\"1205\"}},\"id\":\"1212\",\"type\":\"CDSView\"},{\"attributes\":{\"dimension\":\"lon\"},\"id\":\"1174\",\"type\":\"MercatorTicker\"},{\"attributes\":{\"fill_color\":{\"value\":\"#30a2da\"},\"hatch_color\":{\"value\":\"#30a2da\"},\"line_color\":{\"value\":\"#30a2da\"},\"size\":{\"field\":\"size\"},\"x\":{\"field\":\"Lng\"},\"y\":{\"field\":\"Lat\"}},\"id\":\"1208\",\"type\":\"Scatter\"},{\"attributes\":{},\"id\":\"1147\",\"type\":\"LinearScale\"},{\"attributes\":{\"end\":22735007.681649063,\"min_interval\":5,\"reset_end\":22735007.681649063,\"reset_start\":-22922402.912450455,\"start\":-22922402.912450455,\"tags\":[[[\"Lng\",\"Lng\",null]]]},\"id\":\"1135\",\"type\":\"Range1d\"},{\"attributes\":{\"margin\":[5,5,5,5],\"name\":\"HSpacer01702\",\"sizing_mode\":\"stretch_width\"},\"id\":\"1222\",\"type\":\"Spacer\"},{\"attributes\":{\"attribution\":\"&copy; <a href=\\\"https://www.openstreetmap.org/copyright\\\">OpenStreetMap</a> contributors\",\"url\":\"https://c.tile.openstreetmap.org/{Z}/{X}/{Y}.png\"},\"id\":\"1200\",\"type\":\"WMTSTileSource\"},{\"attributes\":{},\"id\":\"1187\",\"type\":\"AllLabels\"},{\"attributes\":{\"tools\":[{\"id\":\"1139\"},{\"id\":\"1159\"},{\"id\":\"1160\"},{\"id\":\"1161\"},{\"id\":\"1162\"},{\"id\":\"1163\"}]},\"id\":\"1165\",\"type\":\"Toolbar\"},{\"attributes\":{\"fill_alpha\":{\"value\":0.2},\"fill_color\":{\"value\":\"#30a2da\"},\"hatch_alpha\":{\"value\":0.2},\"hatch_color\":{\"value\":\"#30a2da\"},\"line_alpha\":{\"value\":0.2},\"line_color\":{\"value\":\"#30a2da\"},\"size\":{\"field\":\"size\"},\"x\":{\"field\":\"Lng\"},\"y\":{\"field\":\"Lat\"}},\"id\":\"1210\",\"type\":\"Scatter\"},{\"attributes\":{\"axis\":{\"id\":\"1151\"},\"coordinates\":null,\"grid_line_color\":null,\"group\":null,\"ticker\":null},\"id\":\"1154\",\"type\":\"Grid\"},{\"attributes\":{\"angle\":{\"value\":0.0},\"fill_alpha\":{\"value\":1.0},\"fill_color\":{\"value\":\"#30a2da\"},\"hatch_alpha\":{\"value\":1.0},\"hatch_color\":{\"value\":\"#30a2da\"},\"hatch_scale\":{\"value\":12.0},\"hatch_weight\":{\"value\":1.0},\"line_alpha\":{\"value\":1.0},\"line_cap\":{\"value\":\"butt\"},\"line_color\":{\"value\":\"#30a2da\"},\"line_dash\":{\"value\":[]},\"line_dash_offset\":{\"value\":0},\"line_join\":{\"value\":\"bevel\"},\"line_width\":{\"value\":1},\"marker\":{\"value\":\"circle\"},\"size\":{\"field\":\"size\"},\"x\":{\"field\":\"Lng\"},\"y\":{\"field\":\"Lat\"}},\"id\":\"1215\",\"type\":\"Scatter\"},{\"attributes\":{\"dimension\":\"lon\"},\"id\":\"1175\",\"type\":\"MercatorTickFormatter\"},{\"attributes\":{},\"id\":\"1163\",\"type\":\"ResetTool\"},{\"attributes\":{\"code\":\"\\n        var projections = Bokeh.require(\\\"core/util/projections\\\");\\n        var x = special_vars.data_x\\n        var y = special_vars.data_y\\n        var coords = projections.wgs84_mercator.invert(x, y)\\n        return \\\"\\\" + (coords[0]).toFixed(4)\\n    \"},\"id\":\"1213\",\"type\":\"CustomJSHover\"},{\"attributes\":{\"bottom_units\":\"screen\",\"coordinates\":null,\"fill_alpha\":0.5,\"fill_color\":\"lightgrey\",\"group\":null,\"left_units\":\"screen\",\"level\":\"overlay\",\"line_alpha\":1.0,\"line_color\":\"black\",\"line_dash\":[4,4],\"line_width\":2,\"right_units\":\"screen\",\"syncable\":false,\"top_units\":\"screen\"},\"id\":\"1164\",\"type\":\"BoxAnnotation\"},{\"attributes\":{\"end\":20703350.492385056,\"min_interval\":5,\"reset_end\":20703350.492385056,\"reset_start\":-13539707.453189585,\"start\":-13539707.453189585,\"tags\":[[[\"Lat\",\"Lat\",null]]]},\"id\":\"1136\",\"type\":\"Range1d\"},{\"attributes\":{},\"id\":\"1180\",\"type\":\"AllLabels\"},{\"attributes\":{\"axis_label\":\"x\",\"coordinates\":null,\"formatter\":{\"id\":\"1175\"},\"group\":null,\"major_label_policy\":{\"id\":\"1180\"},\"ticker\":{\"id\":\"1174\"}},\"id\":\"1151\",\"type\":\"LinearAxis\"},{\"attributes\":{\"code\":\"\\n        var projections = Bokeh.require(\\\"core/util/projections\\\");\\n        var x = special_vars.data_x\\n        var y = special_vars.data_y\\n        var coords = projections.wgs84_mercator.invert(x, y)\\n        return \\\"\\\" + (coords[1]).toFixed(4)\\n    \"},\"id\":\"1214\",\"type\":\"CustomJSHover\"},{\"attributes\":{\"match_aspect\":true,\"overlay\":{\"id\":\"1164\"}},\"id\":\"1162\",\"type\":\"BoxZoomTool\"},{\"attributes\":{},\"id\":\"1159\",\"type\":\"SaveTool\"},{\"attributes\":{\"zoom_on_axis\":false},\"id\":\"1161\",\"type\":\"WheelZoomTool\"},{\"attributes\":{\"coordinates\":null,\"group\":null,\"text_color\":\"black\",\"text_font_size\":\"12pt\"},\"id\":\"1143\",\"type\":\"Title\"},{\"attributes\":{},\"id\":\"1206\",\"type\":\"Selection\"},{\"attributes\":{},\"id\":\"1219\",\"type\":\"UnionRenderers\"},{\"attributes\":{\"axis_label\":\"y\",\"coordinates\":null,\"formatter\":{\"id\":\"1177\"},\"group\":null,\"major_label_policy\":{\"id\":\"1187\"},\"ticker\":{\"id\":\"1176\"}},\"id\":\"1155\",\"type\":\"LinearAxis\"},{\"attributes\":{\"below\":[{\"id\":\"1151\"}],\"center\":[{\"id\":\"1154\"},{\"id\":\"1158\"}],\"frame_height\":600,\"frame_width\":800,\"height\":null,\"left\":[{\"id\":\"1155\"}],\"margin\":[5,5,5,5],\"match_aspect\":true,\"min_border_bottom\":10,\"min_border_left\":10,\"min_border_right\":10,\"min_border_top\":10,\"renderers\":[{\"id\":\"1203\"},{\"id\":\"1211\"}],\"sizing_mode\":\"fixed\",\"title\":{\"id\":\"1143\"},\"toolbar\":{\"id\":\"1165\"},\"width\":null,\"x_range\":{\"id\":\"1135\"},\"x_scale\":{\"id\":\"1147\"},\"y_range\":{\"id\":\"1136\"},\"y_scale\":{\"id\":\"1149\"}},\"id\":\"1142\",\"subtype\":\"Figure\",\"type\":\"Plot\"},{\"attributes\":{\"dimension\":\"lat\"},\"id\":\"1177\",\"type\":\"MercatorTickFormatter\"},{\"attributes\":{},\"id\":\"1149\",\"type\":\"LinearScale\"},{\"attributes\":{\"fill_alpha\":{\"value\":0.1},\"fill_color\":{\"value\":\"#30a2da\"},\"hatch_alpha\":{\"value\":0.1},\"hatch_color\":{\"value\":\"#30a2da\"},\"line_alpha\":{\"value\":0.1},\"line_color\":{\"value\":\"#30a2da\"},\"size\":{\"field\":\"size\"},\"x\":{\"field\":\"Lng\"},\"y\":{\"field\":\"Lat\"}},\"id\":\"1209\",\"type\":\"Scatter\"},{\"attributes\":{\"dimension\":\"lat\"},\"id\":\"1176\",\"type\":\"MercatorTicker\"},{\"attributes\":{\"callback\":null,\"formatters\":{\"$x\":{\"id\":\"1213\"},\"$y\":{\"id\":\"1214\"}},\"renderers\":[{\"id\":\"1211\"}],\"tags\":[\"hv_created\"],\"tooltips\":[[\"Lng\",\"$x{custom}\"],[\"Lat\",\"$y{custom}\"],[\"Humidity\",\"@{Humidity}\"]]},\"id\":\"1139\",\"type\":\"HoverTool\"},{\"attributes\":{\"axis\":{\"id\":\"1155\"},\"coordinates\":null,\"dimension\":1,\"grid_line_color\":null,\"group\":null,\"ticker\":null},\"id\":\"1158\",\"type\":\"Grid\"},{\"attributes\":{\"children\":[{\"id\":\"1130\"},{\"id\":\"1142\"},{\"id\":\"1222\"}],\"margin\":[0,0,0,0],\"name\":\"Row01697\",\"tags\":[\"embedded\"]},\"id\":\"1129\",\"type\":\"Row\"},{\"attributes\":{},\"id\":\"1160\",\"type\":\"PanTool\"},{\"attributes\":{\"data\":{\"Humidity\":[85,75,74,74,84,92,98,78,78,87,71,97,92,74,92,49,96,59,66,66,65,51,52,79,68,61,74,77,86,88,54,82,96,75,40,83,78,80,94,65,37,70,34,50,84,83,95,83,76,57,100,64,94,72,92,71,81,83,52,97,69,91,90,90,98,83,54,99,89,80,58,42,100,60,78,18,78,73,59,40,85,67,21,57,70,91,77,81,89,77,90,93,46,37,73,79,87,99,63,76,31,97,56,65,100,84,80,79,96,93,62,97,33,91,86,88,50,95,83,91,87,78,90,64,81,59,67,90,99,78,71,80,96,100,64,77,96,75,80,74,81,66,66,96,99,86,20,98,93,83,63,89,65,99,68,78,84,76,93,88,74,86,52,88,94,66,83,49,54,88,80,76,98,23,76,74,87,62,69,91,25,87,81,57,91,72,67,51,86,60,72,32,51,93,86,97,93,61,86,35,70,81,73,73,67,71,69,100,73,81,99,99,81,70,57,83,44,68,61,85,79,72,58,77,74,84,30,82,63,62,87,77,57,90,87,84,73,97,85,97,95,88,99,89,75,76,50,71,94,67,98,81,95,75,73,73,74,89,100,65,81,50,71,92,74,55,77,93,88,58,69,60,83,54,94,57,73,91,80,100,96,64,68,79,87,85,59,93,82,85,30,91,92,94,55,94,93,47,54,88,43,47,87,82,96,74,60,64,93,75,80,73,50,58,83,95,73,93,76,28,73,67,94,65,24,82,82,98,80,90,19,74,92,76,83,75,89,92,71,64,93,77,100,88,65,98,82,79,94,41,66,92,80,98,15,83,39,92,93,87,30,61,90,89,84,78,77,88,19,55,59,81,66,82,39,100,53,89,71,87,85,69,90,16,75,82,84,51,95,69,63,61,16,63,81,71,64,36,85,48,80,76,66,61,81,89,98,83,83,81,86,80,59,86,68,16,67,85,76,46,66,88,90,68,81,71,85,94,50,100,97,42,86,22,58,52,98,74,89,87,43,77,76,94,96,100,50,66,60,83,65,98,70,57,88,99,55,80,70,89,85,86,76,79,73,82,84,58,90,32,46,60,88,60,90,65,50,76,86,100,90,83,73,94,74,100,39,65,52,45,73,78,40,89,71,91,60,71,62,99,80,76,73,67,63,94,77,91,27,86,90,75,87,92,54,71,42,71,58,93,95,88,75,79,18,61,74,98,79,91,78,65,89,34,47,61,74,80,82,92,58],\"Lat\":{\"__ndarray__\":\"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\",\"dtype\":\"float64\",\"order\":\"little\",\"shape\":[541]},\"Lng\":{\"__ndarray__\":\"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\",\"dtype\":\"float64\",\"order\":\"little\",\"shape\":[541]},\"size\":{\"__ndarray__\":\"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\",\"dtype\":\"float64\",\"order\":\"little\",\"shape\":[541]}},\"selected\":{\"id\":\"1206\"},\"selection_policy\":{\"id\":\"1219\"}},\"id\":\"1205\",\"type\":\"ColumnDataSource\"},{\"attributes\":{\"coordinates\":null,\"data_source\":{\"id\":\"1205\"},\"glyph\":{\"id\":\"1208\"},\"group\":null,\"hover_glyph\":null,\"muted_glyph\":{\"id\":\"1210\"},\"nonselection_glyph\":{\"id\":\"1209\"},\"selection_glyph\":{\"id\":\"1215\"},\"view\":{\"id\":\"1212\"}},\"id\":\"1211\",\"type\":\"GlyphRenderer\"}],\"root_ids\":[\"1129\"]},\"title\":\"Bokeh Application\",\"version\":\"2.4.3\"}};\n",
       "    var render_items = [{\"docid\":\"1f4b2bf2-3487-4316-93b2-034921c7c66e\",\"root_ids\":[\"1129\"],\"roots\":{\"1129\":\"773b850a-bcb1-466d-9f7a-9a0ab9857d85\"}}];\n",
       "    root.Bokeh.embed.embed_items_notebook(docs_json, render_items);\n",
       "  }\n",
       "  if (root.Bokeh !== undefined && root.Bokeh.Panel !== undefined) {\n",
       "    embed_document(root);\n",
       "  } else {\n",
       "    var attempts = 0;\n",
       "    var timer = setInterval(function(root) {\n",
       "      if (root.Bokeh !== undefined && root.Bokeh.Panel !== undefined) {\n",
       "        clearInterval(timer);\n",
       "        embed_document(root);\n",
       "      } else if (document.readyState == \"complete\") {\n",
       "        attempts++;\n",
       "        if (attempts > 200) {\n",
       "          clearInterval(timer);\n",
       "          console.log(\"Bokeh: ERROR: Unable to run BokehJS code because BokehJS library is missing\");\n",
       "        }\n",
       "      }\n",
       "    }, 25, root)\n",
       "  }\n",
       "})(window);</script>"
      ],
      "text/plain": [
       ":Overlay\n",
       "   .Tiles.I  :Tiles   [x,y]\n",
       "   .Points.I :Points   [Lng,Lat]   (Humidity)"
      ]
     },
     "execution_count": 39,
     "metadata": {
      "application/vnd.holoviews_exec.v0+json": {
       "id": "1129"
      }
     },
     "output_type": "execute_result"
    }
   ],
   "source": [
    "%%capture --no-display\n",
    "\n",
    "City_plot = city_data_df.hvplot.points(\n",
    "    \"Lng\",\n",
    "    \"Lat\",\n",
    "    geo = True,\n",
    "    tiles = \"OSM\",\n",
    "    frame_width = 800,\n",
    "    frame_height = 600,\n",
    "    size = \"Humidity\"\n",
    ")\n",
    "\n",
    "# Display the map plot\n",
    "City_plot"
   ]
  },
  {
   "cell_type": "markdown",
   "metadata": {},
   "source": [
    "### Step 2: Narrow down the `city_data_df` DataFrame to find your ideal weather condition"
   ]
  },
  {
   "cell_type": "code",
   "execution_count": 64,
   "metadata": {},
   "outputs": [
    {
     "data": {
      "text/plain": [
       "City_ID       536\n",
       "City          536\n",
       "Lat           536\n",
       "Lng           536\n",
       "Max Temp      536\n",
       "Humidity      536\n",
       "Cloudiness    536\n",
       "Wind Speed    536\n",
       "Country       536\n",
       "Date          536\n",
       "dtype: int64"
      ]
     },
     "execution_count": 64,
     "metadata": {},
     "output_type": "execute_result"
    }
   ],
   "source": [
    "# Narrow down cities that fit criteria and drop any results with null values\n",
    "weather_city = city_data_df.loc[(city_data_df[\"Max Temp\"] <= 305)& (city_data_df[\"Max Temp\"] >= 290), [\"Max Temp\"]]\n",
    "# & (city_data_df['Humidity'] <= 40)]\n",
    "\n",
    "# Drop any rows with null values\n",
    "weather_city = city_data_df.dropna(how='any',axis=0)\n",
    "\n",
    "# Display sample data\n",
    "weather_city.count()"
   ]
  },
  {
   "cell_type": "markdown",
   "metadata": {},
   "source": [
    "### Step 3: Create a new DataFrame called `hotel_df`."
   ]
  },
  {
   "cell_type": "code",
   "execution_count": 35,
   "metadata": {},
   "outputs": [
    {
     "data": {
      "text/html": [
       "<div>\n",
       "<style scoped>\n",
       "    .dataframe tbody tr th:only-of-type {\n",
       "        vertical-align: middle;\n",
       "    }\n",
       "\n",
       "    .dataframe tbody tr th {\n",
       "        vertical-align: top;\n",
       "    }\n",
       "\n",
       "    .dataframe thead th {\n",
       "        text-align: right;\n",
       "    }\n",
       "</style>\n",
       "<table border=\"1\" class=\"dataframe\">\n",
       "  <thead>\n",
       "    <tr style=\"text-align: right;\">\n",
       "      <th></th>\n",
       "      <th>City</th>\n",
       "      <th>Lat</th>\n",
       "      <th>Lng</th>\n",
       "      <th>Humidity</th>\n",
       "      <th>Country</th>\n",
       "      <th>Hotel Name</th>\n",
       "    </tr>\n",
       "  </thead>\n",
       "  <tbody>\n",
       "    <tr>\n",
       "      <th>0</th>\n",
       "      <td>port-cartier</td>\n",
       "      <td>50.0334</td>\n",
       "      <td>-66.8654</td>\n",
       "      <td>85</td>\n",
       "      <td>CA</td>\n",
       "      <td></td>\n",
       "    </tr>\n",
       "    <tr>\n",
       "      <th>1</th>\n",
       "      <td>tuktoyaktuk</td>\n",
       "      <td>69.4541</td>\n",
       "      <td>-133.0374</td>\n",
       "      <td>75</td>\n",
       "      <td>CA</td>\n",
       "      <td></td>\n",
       "    </tr>\n",
       "    <tr>\n",
       "      <th>2</th>\n",
       "      <td>atuona</td>\n",
       "      <td>-9.8000</td>\n",
       "      <td>-139.0333</td>\n",
       "      <td>74</td>\n",
       "      <td>PF</td>\n",
       "      <td></td>\n",
       "    </tr>\n",
       "    <tr>\n",
       "      <th>3</th>\n",
       "      <td>avarua</td>\n",
       "      <td>-21.2078</td>\n",
       "      <td>-159.7750</td>\n",
       "      <td>74</td>\n",
       "      <td>CK</td>\n",
       "      <td></td>\n",
       "    </tr>\n",
       "    <tr>\n",
       "      <th>4</th>\n",
       "      <td>klaksvik</td>\n",
       "      <td>62.2266</td>\n",
       "      <td>-6.5890</td>\n",
       "      <td>84</td>\n",
       "      <td>FO</td>\n",
       "      <td></td>\n",
       "    </tr>\n",
       "  </tbody>\n",
       "</table>\n",
       "</div>"
      ],
      "text/plain": [
       "           City      Lat       Lng  Humidity Country Hotel Name\n",
       "0  port-cartier  50.0334  -66.8654        85      CA           \n",
       "1   tuktoyaktuk  69.4541 -133.0374        75      CA           \n",
       "2        atuona  -9.8000 -139.0333        74      PF           \n",
       "3        avarua -21.2078 -159.7750        74      CK           \n",
       "4      klaksvik  62.2266   -6.5890        84      FO           "
      ]
     },
     "execution_count": 35,
     "metadata": {},
     "output_type": "execute_result"
    }
   ],
   "source": [
    "# Use the Pandas copy function to create DataFrame called hotel_df to store the city, country, coordinates, and humidity\n",
    "hotel_df = pd.DataFrame(weather_city)\n",
    "hotel_df.pop(\"City_ID\")\n",
    "hotel_df.pop('Max Temp')\n",
    "hotel_df.pop('Cloudiness')\n",
    "hotel_df.pop('Wind Speed')\n",
    "hotel_df.pop('Date')\n",
    "# Add an empty column, \"Hotel Name,\" to the DataFrame so you can store the hotel found using the Geoapify API\n",
    "hotel_df[\"Hotel Name\"] = \"\"\n",
    "\n",
    "# Display sample data\n",
    "hotel_df.head()"
   ]
  },
  {
   "cell_type": "markdown",
   "metadata": {},
   "source": [
    "### Step 4: For each city, use the Geoapify API to find the first hotel located within 10,000 metres of your coordinates."
   ]
  },
  {
   "cell_type": "code",
   "execution_count": null,
   "metadata": {},
   "outputs": [],
   "source": [
    "# Set parameters to search for a hotel\n",
    "radius = 10000\n",
    "params = {\n",
    "    \"categories\":\"airport\",\n",
    "    \"apiKey\": geoapify_key,\n",
    "    \"limit\":1\n",
    "}\n",
    "\n",
    "# Set the base URL\n",
    "base_url = \"https://api.geoapify.com/v1/geocode/search\"\n",
    "\n",
    "# Print a message to follow up the hotel search\n",
    "print(\"Starting hotel search\")\n",
    "\n",
    "# Iterate through the hotel_df DataFrame\n",
    "for index, row in hotel_df.iterrows():\n",
    "    # get latitude, longitude from the DataFrame\n",
    "    lat = row[1]\n",
    "    lon = row[2]\n",
    "    # Add filter and bias parameters with the current city's latitude and longitude to the params dictionary\n",
    "    params[\"filter\"] = # YOUR CODE HERE\n",
    "    params[\"bias\"] = # YOUR CODE HERE\n",
    "    \n",
    "    # Set base URL\n",
    "    base_url = \"https://api.geoapify.com/v2/places\"\n",
    "\n",
    "\n",
    "    # Make and API request using the params dictionaty\n",
    "    name_address = # YOUR CODE HERE\n",
    "    \n",
    "    # Convert the API response to JSON format\n",
    "    name_address = # YOUR CODE HERE\n",
    "    \n",
    "    # Grab the first hotel from the results and store the name in the hotel_df DataFrame\n",
    "    try:\n",
    "        hotel_df.loc[index, \"Hotel Name\"] = name_address[\"features\"][0][\"properties\"][\"name\"]\n",
    "    except (KeyError, IndexError):\n",
    "        # If no hotel is found, set the hotel name as \"No hotel found\".\n",
    "        hotel_df.loc[index, \"Hotel Name\"] = \"No hotel found\"\n",
    "        \n",
    "    # Log the search results\n",
    "    print(f\"{hotel_df.loc[index, 'City']} - nearest hotel: {hotel_df.loc[index, 'Hotel Name']}\")\n",
    "\n",
    "# Display sample data\n",
    "hotel_df"
   ]
  },
  {
   "cell_type": "markdown",
   "metadata": {},
   "source": [
    "### Step 5: Add the hotel name and the country as additional information in the hover message for each city in the map."
   ]
  },
  {
   "cell_type": "code",
   "execution_count": null,
   "metadata": {},
   "outputs": [],
   "source": [
    "%%capture --no-display\n",
    "\n",
    "hotel_plot = hotel_df.hvplot.points(\n",
    "    \"Lng\",\n",
    "    \"Lat\",\n",
    "    \"Hotel Name\",\n",
    "    \"Country\"\n",
    "    geo = True,\n",
    "    tiles = \"OSM\",\n",
    "    frame_width = 800,\n",
    "    frame_height = 600,\n",
    "    size = \"Humidity\"\n",
    ")\n",
    "\n",
    "# Display the map plot\n",
    "hotel_plot"
   ]
  },
  {
   "cell_type": "code",
   "execution_count": null,
   "metadata": {},
   "outputs": [],
   "source": []
  }
 ],
 "metadata": {
  "kernelspec": {
   "display_name": "PythonData",
   "language": "python",
   "name": "pythondata"
  },
  "language_info": {
   "codemirror_mode": {
    "name": "ipython",
    "version": 3
   },
   "file_extension": ".py",
   "mimetype": "text/x-python",
   "name": "python",
   "nbconvert_exporter": "python",
   "pygments_lexer": "ipython3",
   "version": "3.9.13"
  },
  "latex_envs": {
   "LaTeX_envs_menu_present": true,
   "autoclose": false,
   "autocomplete": true,
   "bibliofile": "biblio.bib",
   "cite_by": "apalike",
   "current_citInitial": 1,
   "eqLabelWithNumbers": true,
   "eqNumInitial": 1,
   "hotkeys": {
    "equation": "Ctrl-E",
    "itemize": "Ctrl-I"
   },
   "labels_anchors": false,
   "latex_user_defs": false,
   "report_style_numbering": false,
   "user_envs_cfg": false
  }
 },
 "nbformat": 4,
 "nbformat_minor": 4
}
